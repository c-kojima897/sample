{
 "cells": [
  {
   "cell_type": "code",
   "execution_count": 2,
   "id": "ba716851",
   "metadata": {},
   "outputs": [
    {
     "name": "stdout",
     "output_type": "stream",
     "text": [
      "コミットからプッシュまでを行おう！\n"
     ]
    }
   ],
   "source": [
    "print(\"コミットからプッシュまでを行おう！\")"
   ]
  }
 ],
 "metadata": {
  "kernelspec": {
   "display_name": ".venv",
   "language": "python",
   "name": "python3"
  },
  "language_info": {
   "name": "python",
   "version": "3.12.7"
  }
 },
 "nbformat": 4,
 "nbformat_minor": 5
}
